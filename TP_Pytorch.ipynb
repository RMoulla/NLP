{
  "nbformat": 4,
  "nbformat_minor": 0,
  "metadata": {
    "colab": {
      "provenance": []
    },
    "kernelspec": {
      "name": "python3",
      "display_name": "Python 3"
    },
    "language_info": {
      "name": "python"
    }
  },
  "cells": [
    {
      "cell_type": "markdown",
      "source": [
        "\n",
        "#Travaux pratiques Pytorch\n",
        "\n",
        "PyTorch est un framework d'apprentissage automatique utilisé dans le monde académique et industriel pour diverses applications. PyTorch a commencé comme une alternative plus flexible à TensorFlow, qui est un autre framework d'apprentissage automatique populaire.\n",
        "\n",
        "Pytorch manipule essentiellement des tendeurs, qui sont ses briques de base. Les tenseurs sont similaires aux matrices, mais ont cependant des propriétés supplémentaires ; ils peuvent notamment représenter des données ayant des dimensions quelconques (supérieures à 2)."
      ],
      "metadata": {
        "id": "m8X8ncwPspFw"
      }
    },
    {
      "cell_type": "code",
      "execution_count": null,
      "metadata": {
        "colab": {
          "base_uri": "https://localhost:8080/"
        },
        "id": "V8yqkEfhsmUj",
        "outputId": "92ce1302-0931-4d45-f2bd-ec3f2cda8f75"
      },
      "outputs": [
        {
          "output_type": "stream",
          "name": "stdout",
          "text": [
            "Requirement already satisfied: torch in /usr/local/lib/python3.10/dist-packages (2.1.0+cu121)\n",
            "Requirement already satisfied: torchvision in /usr/local/lib/python3.10/dist-packages (0.16.0+cu121)\n",
            "Requirement already satisfied: filelock in /usr/local/lib/python3.10/dist-packages (from torch) (3.13.1)\n",
            "Requirement already satisfied: typing-extensions in /usr/local/lib/python3.10/dist-packages (from torch) (4.5.0)\n",
            "Requirement already satisfied: sympy in /usr/local/lib/python3.10/dist-packages (from torch) (1.12)\n",
            "Requirement already satisfied: networkx in /usr/local/lib/python3.10/dist-packages (from torch) (3.2.1)\n",
            "Requirement already satisfied: jinja2 in /usr/local/lib/python3.10/dist-packages (from torch) (3.1.3)\n",
            "Requirement already satisfied: fsspec in /usr/local/lib/python3.10/dist-packages (from torch) (2023.6.0)\n",
            "Requirement already satisfied: triton==2.1.0 in /usr/local/lib/python3.10/dist-packages (from torch) (2.1.0)\n",
            "Requirement already satisfied: numpy in /usr/local/lib/python3.10/dist-packages (from torchvision) (1.23.5)\n",
            "Requirement already satisfied: requests in /usr/local/lib/python3.10/dist-packages (from torchvision) (2.31.0)\n",
            "Requirement already satisfied: pillow!=8.3.*,>=5.3.0 in /usr/local/lib/python3.10/dist-packages (from torchvision) (9.4.0)\n",
            "Requirement already satisfied: MarkupSafe>=2.0 in /usr/local/lib/python3.10/dist-packages (from jinja2->torch) (2.1.3)\n",
            "Requirement already satisfied: charset-normalizer<4,>=2 in /usr/local/lib/python3.10/dist-packages (from requests->torchvision) (3.3.2)\n",
            "Requirement already satisfied: idna<4,>=2.5 in /usr/local/lib/python3.10/dist-packages (from requests->torchvision) (3.6)\n",
            "Requirement already satisfied: urllib3<3,>=1.21.1 in /usr/local/lib/python3.10/dist-packages (from requests->torchvision) (2.0.7)\n",
            "Requirement already satisfied: certifi>=2017.4.17 in /usr/local/lib/python3.10/dist-packages (from requests->torchvision) (2023.11.17)\n",
            "Requirement already satisfied: mpmath>=0.19 in /usr/local/lib/python3.10/dist-packages (from sympy->torch) (1.3.0)\n"
          ]
        }
      ],
      "source": [
        "!pip install torch torchvision"
      ]
    },
    {
      "cell_type": "code",
      "source": [
        "import torch"
      ],
      "metadata": {
        "id": "zcrWhxcqsndu"
      },
      "execution_count": null,
      "outputs": []
    },
    {
      "cell_type": "markdown",
      "source": [
        "## Tenseurs"
      ],
      "metadata": {
        "id": "EtV3rPFyuFH6"
      }
    },
    {
      "cell_type": "code",
      "source": [
        "# Création d'un tenseur à partir d'une liste\n",
        "tensor_from_list = torch.tensor([1, 2, 3])\n",
        "\n",
        "# Création d'un tenseur de zéros\n",
        "tensor_of_zeros = torch.zeros(3, 3)\n",
        "\n",
        "# Création d'un tenseur de uns\n",
        "tensor_of_ones = torch.ones(3, 3)\n",
        "\n",
        "# Création d'un tenseur avec des valeurs aléatoires\n",
        "tensor_random = torch.rand(3, 3)"
      ],
      "metadata": {
        "id": "CIyvawqtt-FX"
      },
      "execution_count": null,
      "outputs": []
    },
    {
      "cell_type": "markdown",
      "source": [
        "Nous abordons ici différentes manières de créer des tenseurs avec des types de données spécifiques."
      ],
      "metadata": {
        "id": "tLml7PjuutN8"
      }
    },
    {
      "cell_type": "code",
      "source": [
        "# Conversion d'un tenseur en type float\n",
        "tensor_float = tensor_from_list.float()\n",
        "\n",
        "# Conversion d'un tenseur en type booléen\n",
        "tensor_bool = torch.tensor([1, 0, 1], dtype=torch.bool)"
      ],
      "metadata": {
        "id": "qFGA3TFJuXFE"
      },
      "execution_count": null,
      "outputs": []
    },
    {
      "cell_type": "markdown",
      "source": [
        "## Conversion d'objets de Numpy vers PyTorch\n",
        "\n",
        "On peut facilement convertir des tableaux NumPy en tenseurs PyTorch et vice-versa. Cela est notamment utile pour intégrer des bibliothèques basées sur NumPy dans un flux de travail PyTorch."
      ],
      "metadata": {
        "id": "3PsZcAanvA99"
      }
    },
    {
      "cell_type": "code",
      "source": [
        "import numpy as np\n",
        "\n",
        "# Créer un tableau NumPy\n",
        "numpy_array = np.array([1, 2, 3])\n",
        "\n",
        "# Convertir le tableau NumPy en un tenseur PyTorch\n",
        "torch_tensor = torch.from_numpy(numpy_array)\n",
        "\n",
        "# Convertir un tenseur PyTorch en un tableau NumPy\n",
        "back_to_numpy = torch_tensor.numpy()"
      ],
      "metadata": {
        "id": "00EeoKBBt_Xy"
      },
      "execution_count": null,
      "outputs": []
    },
    {
      "cell_type": "markdown",
      "source": [
        "## Initialisation de Tenseurs\n",
        "PyTorch fournit plusieurs méthodes pour initialiser des tenseurs. Par exemple, `torch.zeros`, `torch.ones`, et `torch.rand` pour des tenseurs remplis de zéros, de uns, ou de valeurs aléatoires respectivement."
      ],
      "metadata": {
        "id": "RkgAjux5veTc"
      }
    },
    {
      "cell_type": "code",
      "source": [
        "# Tenseur de zéros\n",
        "zeros = torch.zeros(2, 3)\n",
        "\n",
        "# Tenseur de uns\n",
        "ones = torch.ones(2, 3)\n",
        "\n",
        "# Tenseur avec des valeurs aléatoires uniformes\n",
        "random_tensor = torch.rand(2, 3)"
      ],
      "metadata": {
        "id": "n4StRwgIwEG3"
      },
      "execution_count": null,
      "outputs": []
    },
    {
      "cell_type": "markdown",
      "source": [
        "## Opérations sur les Tenseurs\n",
        "Les tenseurs PyTorch supportent une multitude d'opérations, y compris les opérations mathématiques, les manipulations de forme, et bien plus."
      ],
      "metadata": {
        "id": "-s1YJQCvwB14"
      }
    },
    {
      "cell_type": "code",
      "source": [
        "# Addition\n",
        "add_result = torch.add(torch_tensor, torch_tensor)\n",
        "\n",
        "# Multiplication élément par élément\n",
        "mul_result = torch.mul(torch_tensor, torch_tensor)\n",
        "\n",
        "# Redimensionnement d'un tenseur\n",
        "reshaped = torch_tensor.view(1, -1)"
      ],
      "metadata": {
        "id": "gjFKQ8FwwfuM"
      },
      "execution_count": null,
      "outputs": []
    },
    {
      "cell_type": "markdown",
      "source": [
        "## Indexation des Tenseurs\n",
        "L'indexation des tenseurs fonctionne de manière similaire aux tableaux NumPy."
      ],
      "metadata": {
        "id": "qzUdpSPMwjNC"
      }
    },
    {
      "cell_type": "code",
      "source": [
        "# Sélectionner le premier élément\n",
        "first_element = torch_tensor[0]\n",
        "\n",
        "# Slicing\n",
        "sliced = torch_tensor[1:]"
      ],
      "metadata": {
        "id": "5pLV15aSw0J-"
      },
      "execution_count": null,
      "outputs": []
    },
    {
      "cell_type": "markdown",
      "source": [
        "## Calcul du Gradient avec Autograd\n",
        "PyTorch utilise un système appelé Autograd pour automatiser le calcul des gradients. Cela est essentiel pour l'entraînement des réseaux de neurones."
      ],
      "metadata": {
        "id": "2EMQKGhpyFvK"
      }
    },
    {
      "cell_type": "code",
      "source": [
        "\n",
        "# Créer un tenseur avec requires_grad=True pour calculer le gradient\n",
        "x = torch.tensor([1.0, 2.0, 3.0], requires_grad=True)\n",
        "\n",
        "# Appliquer une opération\n",
        "y = x * 2\n",
        "\n",
        "# Calculer les gradients\n",
        "y.backward(torch.tensor([1.0, 1.0, 1.0]))\n",
        "\n",
        "# Afficher le gradient\n",
        "print(x.grad)"
      ],
      "metadata": {
        "colab": {
          "base_uri": "https://localhost:8080/"
        },
        "id": "WCzNBbWfxQRk",
        "outputId": "be0e8131-c63b-4096-b280-8ca9e001bb5a"
      },
      "execution_count": null,
      "outputs": [
        {
          "output_type": "stream",
          "name": "stdout",
          "text": [
            "tensor([2., 2., 2.])\n"
          ]
        }
      ]
    },
    {
      "cell_type": "markdown",
      "source": [
        "## Réseaux de Neurones avec PyTorch\n",
        "PyTorch rend la construction de réseaux de neurones conviviaux grâce à son module torch.nn. Vous pouvez créer des couches, définir des fonctions d'activation, et connecter ces composants de manière intuitive."
      ],
      "metadata": {
        "id": "sTMt1rL4yrFk"
      }
    },
    {
      "cell_type": "code",
      "source": [
        "import torch.nn as nn\n",
        "import torch.nn.functional as F\n",
        "\n",
        "class MonReseau(nn.Module):\n",
        "    def __init__(self):\n",
        "        super(MonReseau, self).__init__()\n",
        "        self.fc1 = nn.Linear(3, 3)  # Couche linéaire\n",
        "        self.fc2 = nn.Linear(3, 2)  # Une autre couche linéaire\n",
        "\n",
        "    def forward(self, x):\n",
        "        x = F.relu(self.fc1(x))  # Activation ReLU sur la première couche\n",
        "        x = self.fc2(x)          # Sortie de la deuxième couche\n",
        "        return x\n",
        "\n",
        "# Création d'une instance du réseau\n",
        "reseau = MonReseau()"
      ],
      "metadata": {
        "id": "HGvze6EGy1no"
      },
      "execution_count": null,
      "outputs": []
    },
    {
      "cell_type": "markdown",
      "source": [
        "Entraînement des modèles\n",
        "L'entraînement des modèles en PyTorch implique la définition d'une fonction de perte, d'un optimiseur et l'exécution d'une boucle d'entraînement."
      ],
      "metadata": {
        "id": "8dyM60bMy_mk"
      }
    },
    {
      "cell_type": "code",
      "source": [
        "criterion = nn.MSELoss()  # Définir une fonction de perte\n",
        "optimizer = torch.optim.SGD(reseau.parameters(), lr=0.01)  # Définir un optimiseur\n",
        "\n",
        "# Données fictives pour l'exemple\n",
        "inputs = torch.randn(1, 3)\n",
        "targets = torch.randn(1, 2)\n",
        "\n",
        "# Boucle d'entraînement\n",
        "for epoch in range(100):  # Nombre d'époques\n",
        "    optimizer.zero_grad()   # Réinitialiser les gradients\n",
        "    outputs = reseau(inputs)  # Passer les entrées dans le réseau\n",
        "    loss = criterion(outputs, targets)  # Calculer la perte\n",
        "    loss.backward()  # Propagation arrière\n",
        "    optimizer.step()  # Mise à jour des paramètres"
      ],
      "metadata": {
        "id": "gZzkA_Q8zIE5"
      },
      "execution_count": null,
      "outputs": []
    },
    {
      "cell_type": "markdown",
      "source": [
        "## Utilisation des GPU\n",
        "PyTorch facilite l'utilisation de GPU pour accélérer les calculs. Vous pouvez déplacer des tenseurs et des modèles sur le GPU en utilisant `.to('cuda')`."
      ],
      "metadata": {
        "id": "pdIq6OzDzTfg"
      }
    },
    {
      "cell_type": "code",
      "source": [
        "# Vérifier si CUDA (GPU) est disponible\n",
        "if torch.cuda.is_available():\n",
        "    reseau.to('cuda')\n",
        "# Déplacer le modèle sur le GPU\n",
        "    inputs = inputs.to('cuda')  # Déplacer les données d'entrée sur le GPU\n",
        "    targets = targets.to('cuda')  # Déplacer les cibles sur le GPU"
      ],
      "metadata": {
        "id": "3VjigsKzzf0G"
      },
      "execution_count": null,
      "outputs": []
    },
    {
      "cell_type": "markdown",
      "source": [
        "## Exerecice\n",
        "\n",
        "Implémenter une régression logistique sur les donnéees ``Reviews.csv`` avec Pytorch."
      ],
      "metadata": {
        "id": "besXrQwZ6tn5"
      }
    }
  ]
}